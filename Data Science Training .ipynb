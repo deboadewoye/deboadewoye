{
 "cells": [
  {
   "cell_type": "code",
   "execution_count": 2,
   "id": "3c21c663",
   "metadata": {},
   "outputs": [
    {
     "name": "stdout",
     "output_type": "stream",
     "text": [
      "oluwaseun adewoye\n"
     ]
    }
   ],
   "source": [
    "print (\"oluwaseun adewoye\")"
   ]
  },
  {
   "cell_type": "code",
   "execution_count": 6,
   "id": "9639ce3e",
   "metadata": {},
   "outputs": [
    {
     "name": "stdout",
     "output_type": "stream",
     "text": [
      "12+20\n"
     ]
    }
   ],
   "source": [
    "print(\"12+20\")"
   ]
  },
  {
   "cell_type": "code",
   "execution_count": null,
   "id": "09dbd29c",
   "metadata": {},
   "outputs": [],
   "source": []
  },
  {
   "cell_type": "code",
   "execution_count": null,
   "id": "26ce5bbb",
   "metadata": {},
   "outputs": [],
   "source": []
  }
 ],
 "metadata": {
  "kernelspec": {
   "display_name": "Python 3 (ipykernel)",
   "language": "python",
   "name": "python3"
  },
  "language_info": {
   "codemirror_mode": {
    "name": "ipython",
    "version": 3
   },
   "file_extension": ".py",
   "mimetype": "text/x-python",
   "name": "python",
   "nbconvert_exporter": "python",
   "pygments_lexer": "ipython3",
   "version": "3.11.3"
  }
 },
 "nbformat": 4,
 "nbformat_minor": 5
}
